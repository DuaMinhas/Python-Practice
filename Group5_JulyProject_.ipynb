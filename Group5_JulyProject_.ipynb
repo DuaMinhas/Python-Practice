{
  "nbformat": 4,
  "nbformat_minor": 0,
  "metadata": {
    "colab": {
      "provenance": []
    },
    "kernelspec": {
      "name": "python3",
      "display_name": "Python 3"
    },
    "language_info": {
      "name": "python"
    }
  },
  "cells": [
    {
      "cell_type": "markdown",
      "source": [
        "# **Group 5:**\n",
        "* Develop a system to input students' marks and calculate their grades and averages.\n",
        "* The program should accept marks for multiple subjects and calculate the total and average marks.\n",
        "* It should assign grades based on predefined criteria and display the results in an easy-to-understand format."
      ],
      "metadata": {
        "id": "SMf-61yQlSmd"
      }
    },
    {
      "cell_type": "code",
      "source": [
        "def calculate_grade(average):\n",
        "    #Determine the grade based on the average mark.\n",
        "    if average >= 90:\n",
        "        return 'A'\n",
        "    elif average >= 80:\n",
        "        return 'B'\n",
        "    elif average >= 70:\n",
        "        return 'C'\n",
        "    elif average >= 60:\n",
        "        return 'D'\n",
        "    elif average >= 50:\n",
        "        return 'E'\n",
        "    else:\n",
        "        return 'F'\n",
        "\n",
        "def input_marks():\n",
        "    #Input marks for multiple subjects and calculate total, average, and grades.\n",
        "    subjects = []\n",
        "    marks = []\n",
        "\n",
        "    print(\"Enter the number of subjects:\")\n",
        "    num_subjects = int(input())\n",
        "\n",
        "    for i in range(num_subjects):\n",
        "        subject = input(f\"Enter the name of subject {i + 1}: \")\n",
        "        subjects.append(subject)\n",
        "        mark = float(input(f\"Enter the marks for {subject}: \"))\n",
        "        marks.append(mark)\n",
        "\n",
        "    total_marks = sum(marks)\n",
        "    average_marks = total_marks / num_subjects\n",
        "    grade = calculate_grade(average_marks)\n",
        "\n",
        "    return subjects, marks, total_marks, average_marks, grade\n",
        "\n",
        "def display_results(subjects, marks, total, average, grade):\n",
        "    #Display the results in a formatted manner.\n",
        "    print(\"\\n--- Student Results ---\")\n",
        "    print(f\"{'Subject':<20}{'Marks':<10}\")\n",
        "    print(\"-\" * 30)\n",
        "\n",
        "    for subject, mark in zip(subjects, marks):\n",
        "        print(f\"{subject:<20}{mark:<10.2f}\")\n",
        "\n",
        "    print(\"-\" * 30)\n",
        "    print(f\"Total Marks: {total:.2f}\")\n",
        "    print(f\"Average Marks: {average:.2f}\")\n",
        "    print(f\"Grade: {grade}\")\n",
        "\n",
        "def main():\n",
        "    #Main function to run the program\n",
        "    subjects, marks, total, average, grade = input_marks()\n",
        "    display_results(subjects, marks, total, average, grade)\n",
        "\n",
        "if __name__ == \"__main__\":\n",
        "    main()\n"
      ],
      "metadata": {
        "colab": {
          "base_uri": "https://localhost:8080/"
        },
        "id": "N0R8JoE19chj",
        "outputId": "fe6e0e1f-95f9-42e4-9916-8326d377d1ee"
      },
      "execution_count": null,
      "outputs": [
        {
          "output_type": "stream",
          "name": "stdout",
          "text": [
            "Enter the number of subjects:\n",
            "3\n",
            "Enter the name of subject 1: Physics\n",
            "Enter the marks for Physics: 92\n",
            "Enter the name of subject 2: Chemistry\n",
            "Enter the marks for Chemistry: 88\n",
            "Enter the name of subject 3: Biology\n",
            "Enter the marks for Biology: 79\n",
            "\n",
            "--- Student Results ---\n",
            "Subject             Marks     \n",
            "------------------------------\n",
            "Physics             92.00     \n",
            "Chemistry           88.00     \n",
            "Biology             79.00     \n",
            "------------------------------\n",
            "Total Marks: 259.00\n",
            "Average Marks: 86.33\n",
            "Grade: B\n"
          ]
        }
      ]
    }
  ]
}